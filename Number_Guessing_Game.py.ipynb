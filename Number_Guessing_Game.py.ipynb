{
 "cells": [
  {
   "cell_type": "code",
   "execution_count": 3,
   "id": "c90552a0",
   "metadata": {},
   "outputs": [
    {
     "name": "stdout",
     "output_type": "stream",
     "text": [
      "Hello! Welcome to Number Guessing Game\n",
      "Enter your preferred nickname: arii\n",
      "Hey arii , the guess range is 1 to 10, so try your best to guess the correct number.\n",
      "Enter a number between 1 and 10: 8\n",
      "Computer Win!!! The correct number was 10\n",
      "Enter a number between 1 and 10: 4\n",
      "Computer Win!!! The correct number was 6\n",
      "Enter a number between 1 and 10: 9\n",
      "Computer Win!!! The correct number was 5\n",
      "Enter a number between 1 and 10: 2\n",
      "Computer Win!!! The correct number was 6\n",
      "Enter a number between 1 and 10: 5\n",
      "Computer Win!!! The correct number was 4\n",
      "Your final score is 0\n"
     ]
    }
   ],
   "source": [
    "import random\n",
    "\n",
    "print(\"Hello! Welcome to Number Guessing Game\")\n",
    "user = input(\"Enter your preferred nickname: \")\n",
    "print(\"Hey\", user, \", the guess range is 1 to 10, so try your best to guess the correct number.\")\n",
    "\n",
    "user_score = 0\n",
    "comp_score = 0  # Opponent\n",
    "tries = 5\n",
    "\n",
    "while tries > 0:\n",
    "    guess_range = random.randint(1, 10)\n",
    "    \n",
    "    try:\n",
    "        guess = int(input(\"Enter a number between 1 and 10: \"))\n",
    "        \n",
    "        if 1 <= guess <= 10:\n",
    "            if guess == guess_range:\n",
    "                user_score += 1\n",
    "                print(\"You Win!!!\")\n",
    "            else:\n",
    "                comp_score += 1\n",
    "                print(f\"Computer Win!!! The correct number was {guess_range}\")\n",
    "            tries -= 1\n",
    "        else:\n",
    "            print(\"Please enter a number between 1 and 10.\")\n",
    "\n",
    "    except ValueError:\n",
    "        print(\"Invalid input. Please enter a valid number.\")\n",
    "\n",
    "print(\"Your final score is\", user_score)\n"
   ]
  },
  {
   "cell_type": "code",
   "execution_count": null,
   "id": "03ed1eba",
   "metadata": {},
   "outputs": [],
   "source": []
  },
  {
   "cell_type": "code",
   "execution_count": null,
   "id": "c91594d6",
   "metadata": {},
   "outputs": [],
   "source": []
  },
  {
   "cell_type": "code",
   "execution_count": null,
   "id": "5249d132",
   "metadata": {},
   "outputs": [],
   "source": []
  }
 ],
 "metadata": {
  "kernelspec": {
   "display_name": "Python 3 (ipykernel)",
   "language": "python",
   "name": "python3"
  },
  "language_info": {
   "codemirror_mode": {
    "name": "ipython",
    "version": 3
   },
   "file_extension": ".py",
   "mimetype": "text/x-python",
   "name": "python",
   "nbconvert_exporter": "python",
   "pygments_lexer": "ipython3",
   "version": "3.9.13"
  }
 },
 "nbformat": 4,
 "nbformat_minor": 5
}
